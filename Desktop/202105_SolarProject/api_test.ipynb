{
 "cells": [
  {
   "cell_type": "markdown",
   "metadata": {},
   "source": [
    "## Update chaeck"
   ]
  },
  {
   "cell_type": "code",
   "execution_count": 214,
   "metadata": {},
   "outputs": [
    {
     "data": {
      "text/plain": [
       "<Response [200]>"
      ]
     },
     "execution_count": 214,
     "metadata": {},
     "output_type": "execute_result"
    }
   ],
   "source": [
    "import json\n",
    "import requests\n",
    "\n",
    "url_update = \"http://localhost:8000/update\"\n",
    "re = requests.post(url_update)\n",
    "re"
   ]
  },
  {
   "cell_type": "markdown",
   "metadata": {},
   "source": [
    "## DB Write"
   ]
  },
  {
   "cell_type": "code",
   "execution_count": 209,
   "metadata": {},
   "outputs": [
    {
     "data": {
      "text/plain": [
       "{'result': {'set_relations': ['relation \"row_solardb\" already exists\\n',\n",
       "   'relation \"short_solardb\" already exists\\n',\n",
       "   'relation \"long_solardb\" already exists\\n',\n",
       "   'relation \"charge\" already exists\\n',\n",
       "   'relation \"userlist\" already exists\\n'],\n",
       "  'set_row_solardb': 'duplicate key value violates unique constraint \"row_solardb_pkey\"\\nDETAIL:  Key (\"timestamp\", id, sub_id)=(2018.1.1 0:00, plant1, 1) already exists.\\nCONTEXT:  COPY row_solardb, line 1\\n',\n",
       "  'set_short_solardb': 'duplicate key value violates unique constraint \"short_solardb_pkey\"\\nDETAIL:  Key (id, sub_id, \"timestamp\")=(plant1, 1, 2018.1.2 4:00) already exists.\\nCONTEXT:  COPY short_solardb, line 1\\n',\n",
       "  'set_long_solardb': 'duplicate key value violates unique constraint \"long_solardb_pkey\"\\nDETAIL:  Key (id, sub_id, \"timestamp\")=(plant1, 1, 2018.1.2 4:00) already exists.\\nCONTEXT:  COPY long_solardb, line 1\\n',\n",
       "  'set_charge': 'success',\n",
       "  'set_userlist': 'duplicate key value violates unique constraint \"userlist_pkey\"\\nDETAIL:  Key (id)=(plant1_1) already exists.\\nCONTEXT:  COPY userlist, line 1\\n'}}"
      ]
     },
     "execution_count": 209,
     "metadata": {},
     "output_type": "execute_result"
    }
   ],
   "source": [
    "import json\n",
    "import requests\n",
    "\n",
    "setup = \"http://localhost:8000/set/database\"\n",
    "re = requests.get(setup)\n",
    "re.json()"
   ]
  },
  {
   "cell_type": "markdown",
   "metadata": {},
   "source": [
    "<h2> login check </h2>"
   ]
  },
  {
   "cell_type": "code",
   "execution_count": 210,
   "metadata": {},
   "outputs": [
    {
     "data": {
      "text/plain": [
       "{'success': True}"
      ]
     },
     "execution_count": 210,
     "metadata": {},
     "output_type": "execute_result"
    }
   ],
   "source": [
    "import json\n",
    "import requests\n",
    "\n",
    "url_login = \"http://localhost:8000/user/login\"\n",
    "login_test = {'id':'plant3_1', 'passwd':'123456a!'}\n",
    "re = requests.get(url_login, params=login_test)\n",
    "re.json()"
   ]
  },
  {
   "cell_type": "markdown",
   "metadata": {},
   "source": [
    "##  Userlist check"
   ]
  },
  {
   "cell_type": "code",
   "execution_count": 203,
   "metadata": {
    "collapsed": true
   },
   "outputs": [
    {
     "data": {
      "text/plain": [
       "[['plant1_1'],\n",
       " ['plant3_1'],\n",
       " ['plant3_2'],\n",
       " ['plant4_1'],\n",
       " ['plant5_1'],\n",
       " ['plant6_1'],\n",
       " ['plant7_1'],\n",
       " ['plant8_1'],\n",
       " ['plant9_1'],\n",
       " ['plant10_1'],\n",
       " ['plant10_2'],\n",
       " ['plant10_3'],\n",
       " ['plant10_4'],\n",
       " ['plant10_5'],\n",
       " ['plant11_1'],\n",
       " ['plant12_1'],\n",
       " ['plant13_1'],\n",
       " ['plant14_1'],\n",
       " ['plant14_2'],\n",
       " ['plant14_3'],\n",
       " ['plant14_4'],\n",
       " ['plant15_1'],\n",
       " ['plant16_1'],\n",
       " ['plant17_1'],\n",
       " ['plant18_1'],\n",
       " ['plant19_1'],\n",
       " ['plant20_1'],\n",
       " ['plant21_1'],\n",
       " ['plant22_1'],\n",
       " ['plant23_1'],\n",
       " ['plant24_1'],\n",
       " ['plant25_1'],\n",
       " ['plant26_1'],\n",
       " ['plant27_1'],\n",
       " ['plant27_2'],\n",
       " ['plant27_3'],\n",
       " ['plant30_1'],\n",
       " ['plant30_2'],\n",
       " ['plant32_1'],\n",
       " ['plant2_1']]"
      ]
     },
     "execution_count": 203,
     "metadata": {},
     "output_type": "execute_result"
    }
   ],
   "source": [
    "import json\n",
    "import requests\n",
    "\n",
    "url_userlist = \"http://localhost:8000/user/userlist\"\n",
    "\n",
    "re = requests.get(url_userlist)\n",
    "re.json()"
   ]
  },
  {
   "cell_type": "markdown",
   "metadata": {},
   "source": [
    "## Revenue check"
   ]
  },
  {
   "cell_type": "code",
   "execution_count": 211,
   "metadata": {
    "collapsed": true
   },
   "outputs": [
    {
     "data": {
      "text/plain": [
       "{'todayTotalRevenue': 544511.31,\n",
       " 'todayRevenue': 9353.0,\n",
       " 'todayPredictedRevenue': 535158.31,\n",
       " 'realGraph': {'X': [0, 1, 2, 3, 4, 5, 6, 7],\n",
       "  'Y': [0.0, 0.0, 0.0, 0.0, 0.0, 0.0, 458.0, 8895.0]},\n",
       " 'predictedGraph': {'X': [8,\n",
       "   9,\n",
       "   10,\n",
       "   11,\n",
       "   12,\n",
       "   13,\n",
       "   14,\n",
       "   15,\n",
       "   16,\n",
       "   17,\n",
       "   18,\n",
       "   19,\n",
       "   20,\n",
       "   21,\n",
       "   22,\n",
       "   23],\n",
       "  'Y': [29368.813,\n",
       "   53503.864,\n",
       "   72745.64,\n",
       "   83179.886,\n",
       "   85708.19,\n",
       "   75355.194,\n",
       "   64592.94,\n",
       "   47156.998,\n",
       "   23546.785,\n",
       "   0.0,\n",
       "   0.0,\n",
       "   0.0,\n",
       "   0.0,\n",
       "   0.0,\n",
       "   0.0,\n",
       "   0.0]}}"
      ]
     },
     "execution_count": 211,
     "metadata": {},
     "output_type": "execute_result"
    }
   ],
   "source": [
    "import json\n",
    "import requests\n",
    "\n",
    "url_today_revenue = 'http://localhost:8000/search/revenue'\n",
    "test = {\"plantId_subId\":\"plant1_1\", 'timestamp': '2020-05-01 07:00:00'}\n",
    "re = requests.get(url_today_revenue, params=test)\n",
    "test = re.json()\n",
    "test"
   ]
  },
  {
   "cell_type": "markdown",
   "metadata": {},
   "source": [
    "## search predict check"
   ]
  },
  {
   "cell_type": "code",
   "execution_count": 212,
   "metadata": {
    "collapsed": true
   },
   "outputs": [
    {
     "data": {
      "text/plain": [
       "{'realPowerGraph': {'X': [0, 1, 2, 3, 4], 'Y': [0.0, 0.0, 0.0, 0.0, 0.0]},\n",
       " 'predictedPowerGraph': {'X': [5,\n",
       "   6,\n",
       "   7,\n",
       "   8,\n",
       "   9,\n",
       "   10,\n",
       "   11,\n",
       "   12,\n",
       "   13,\n",
       "   14,\n",
       "   15,\n",
       "   16,\n",
       "   17,\n",
       "   18,\n",
       "   19,\n",
       "   20,\n",
       "   21,\n",
       "   22,\n",
       "   23],\n",
       "  'Y': [0.0,\n",
       "   0.0,\n",
       "   0.0,\n",
       "   38.22098,\n",
       "   50.494823,\n",
       "   61.219357,\n",
       "   77.50229,\n",
       "   70.83705,\n",
       "   63.53458,\n",
       "   59.287678,\n",
       "   48.257683,\n",
       "   37.183075,\n",
       "   21.177118,\n",
       "   0.0,\n",
       "   0.0,\n",
       "   0.0,\n",
       "   0.0,\n",
       "   0.0,\n",
       "   0.0]},\n",
       " 'revenueFromPowerList': [[0, 0.0, 0.0, 0.0],\n",
       "  [1, 0.0, 0.0, 0.0],\n",
       "  [2, 0.0, 0.0, 0.0],\n",
       "  [3, 0.0, 0.0, 0.0],\n",
       "  [4, 0.0, 0.0, 0.0],\n",
       "  [5, 0.0, 0.0, 0.0],\n",
       "  [6, 0.0, 0.0, 0.0],\n",
       "  [7, 0.0, 0.0, 0.0],\n",
       "  [8, 38.22098, 38220.979999999996, 38220.979999999996],\n",
       "  [9, 50.494823, 50494.823, 88715.80299999999],\n",
       "  [10, 61.219357, 61219.357, 149935.15999999997],\n",
       "  [11, 77.50229, 77502.29000000001, 227437.44999999998],\n",
       "  [12, 70.83705, 70837.05, 298274.5],\n",
       "  [13, 63.53458, 63534.58, 361809.08],\n",
       "  [14, 59.287678, 59287.678, 421096.75800000003],\n",
       "  [15, 48.257683, 48257.683, 469354.44100000005],\n",
       "  [16, 37.183075, 37183.075000000004, 506537.51600000006],\n",
       "  [17, 21.177118, 21177.118, 527714.6340000001],\n",
       "  [18, 0.0, 0.0, 527714.6340000001],\n",
       "  [19, 0.0, 0.0, 527714.6340000001],\n",
       "  [20, 0.0, 0.0, 527714.6340000001],\n",
       "  [21, 0.0, 0.0, 527714.6340000001],\n",
       "  [22, 0.0, 0.0, 527714.6340000001],\n",
       "  [23, 0.0, 0.0, 527714.6340000001]]}"
      ]
     },
     "execution_count": 212,
     "metadata": {},
     "output_type": "execute_result"
    }
   ],
   "source": [
    "import json\n",
    "import requests\n",
    "\n",
    "url_today_revenue = 'http://localhost:8000/search/predict'\n",
    "test = {\"plantId_subId\": 'plant1_1', \"timestamp\" : '2019-08-01 04:00:00', \"periodType\": '일'}\n",
    "re = requests.get(url_today_revenue, params=test)\n",
    "test = re.json()\n",
    "test"
   ]
  },
  {
   "cell_type": "markdown",
   "metadata": {},
   "source": [
    "##  revenue detail check"
   ]
  },
  {
   "cell_type": "code",
   "execution_count": 183,
   "metadata": {},
   "outputs": [
    {
     "data": {
      "text/plain": [
       "{'error': 'operands could not be broadcast together with shapes (802,) (2,) '}"
      ]
     },
     "execution_count": 183,
     "metadata": {},
     "output_type": "execute_result"
    }
   ],
   "source": [
    "import json\n",
    "import requests\n",
    "\n",
    "url_today_revenue = 'http://localhost:8000/search/revenueDetail'\n",
    "test = {\"plantId_subId\": 'plant2_1', \"timestamp\" : '2020-03-12 07:00:00'}\n",
    "re = requests.get(url_today_revenue, params=test)\n",
    "test = re.json()\n",
    "test"
   ]
  },
  {
   "cell_type": "markdown",
   "metadata": {},
   "source": [
    "## investment check"
   ]
  },
  {
   "cell_type": "code",
   "execution_count": 181,
   "metadata": {},
   "outputs": [
    {
     "data": {
      "text/plain": [
       "{'isSuccess': True}"
      ]
     },
     "execution_count": 181,
     "metadata": {},
     "output_type": "execute_result"
    }
   ],
   "source": [
    "url_user_investment = 'http://localhost:8000/set/investment'\n",
    "\n",
    "test = {'plantId_subId':'plant2_1', 'investment': 100}\n",
    "re = requests.get(url_user_investment, params=test)\n",
    "re.json()"
   ]
  },
  {
   "cell_type": "markdown",
   "metadata": {},
   "source": [
    "##  charge check"
   ]
  },
  {
   "cell_type": "code",
   "execution_count": 213,
   "metadata": {},
   "outputs": [
    {
     "data": {
      "text/plain": [
       "{'isSuccess': True}"
      ]
     },
     "execution_count": 213,
     "metadata": {},
     "output_type": "execute_result"
    }
   ],
   "source": [
    "url_charge = 'http://localhost:8000/set/charge'\n",
    "\n",
    "test = {\"plantId_subId\":\"plant9_1\",\"charge\": [1111,1231,1234,1001,1001,1001,1001,1001,1001,1001,1001,1001,1001,\n",
    "                                              1001,1001,1001,1001,1001,1001,1001,1001,1001,1001,1001]}\n",
    "re = requests.get(url_charge, params=test)\n",
    "re.json()"
   ]
  },
  {
   "cell_type": "code",
   "execution_count": null,
   "metadata": {},
   "outputs": [],
   "source": []
  }
 ],
 "metadata": {
  "kernelspec": {
   "display_name": "Python 3",
   "language": "python",
   "name": "python3"
  },
  "language_info": {
   "codemirror_mode": {
    "name": "ipython",
    "version": 3
   },
   "file_extension": ".py",
   "mimetype": "text/x-python",
   "name": "python",
   "nbconvert_exporter": "python",
   "pygments_lexer": "ipython3",
   "version": "3.8.5"
  }
 },
 "nbformat": 4,
 "nbformat_minor": 4
}
